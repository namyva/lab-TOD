{
 "cells": [
  {
   "cell_type": "markdown",
   "metadata": {},
   "source": [
    "## Лабораторная работа №1"
   ]
  },
  {
   "cell_type": "markdown",
   "metadata": {},
   "source": [
    "Замечание: при решении данных задач не подразумевается использования циклов или генераторов Python, если в задании не сказано обратного. Решение должно опираться на использования функционала библиотеки `numpy`."
   ]
  },
  {
   "cell_type": "markdown",
   "metadata": {},
   "source": [
    "1. Файл `minutes_n_ingredients.csv` содержит информацию об идентификаторе рецепта, времени его выполнения в минутах и количестве необходимых ингредиентов. Считайте данные из этого файла в виде массива `numpy` типа `int32`, используя `np.loadtxt`. Выведите на экран первые 5 строк массива."
   ]
  },
  {
   "cell_type": "code",
   "execution_count": 111,
   "metadata": {},
   "outputs": [
    {
     "name": "stdout",
     "output_type": "stream",
     "text": [
      "[[127244     60     16]\n",
      " [ 23891     25      7]\n",
      " [ 94746     10      6]\n",
      " [ 67660      5      6]\n",
      " [157911     60     14]]\n"
     ]
    }
   ],
   "source": [
    "#1\n",
    "import numpy as np\n",
    "filename='minutes_n_ingredients.csv'\n",
    "data = np.loadtxt(filename, delimiter=',', dtype=int, skiprows=1)\n",
    "data1=data[:5]\n",
    "print(data1)"
   ]
  },
  {
   "cell_type": "markdown",
   "metadata": {},
   "source": [
    "2. Вычислите среднее значение, минимум, максимум и медиану по каждому из столбцов, кроме первого."
   ]
  },
  {
   "cell_type": "code",
   "execution_count": 112,
   "metadata": {},
   "outputs": [
    {
     "name": "stdout",
     "output_type": "stream",
     "text": [
      "ПО ПЕРВЫМ ПЯТИ СТРОКАМ\n",
      "Среднее значение:\n",
      "[32  9]\n",
      "Минимум:\n",
      "[5 6]\n",
      "Максимум:\n",
      "[60 16]\n",
      "Медиана:\n",
      "[25.  7.]\n",
      "\n",
      "ПО ВСЕМУ ДАТАСЕТУ\n",
      "Среднее значение:\n",
      "[-21348      9]\n",
      "Минимум:\n",
      "[0 1]\n",
      "Максимум:\n",
      "[2147483647         39]\n",
      "Медиана:\n",
      "[40.  9.]\n"
     ]
    }
   ],
   "source": [
    "#2.1 по первым 5ти строкам (кроме первого столбца)\n",
    "print('ПО ПЕРВЫМ ПЯТИ СТРОКАМ')\n",
    "print('Среднее значение:')\n",
    "print(data1[:,1:].mean(axis=0,dtype=int))\n",
    "\n",
    "print('Минимум:')\n",
    "print(data1[:,1:].min(axis=0))\n",
    "\n",
    "print('Максимум:')\n",
    "print(data1[:,1:].max(axis=0))\n",
    "\n",
    "print('Медиана:')\n",
    "p=np.median(data1[:,1:],axis=0)\n",
    "print(p)\n",
    "\n",
    "#2.2 по всему датасету(кроме первого столбца)\n",
    "print('\\n''ПО ВСЕМУ ДАТАСЕТУ')\n",
    "print('Среднее значение:')\n",
    "print(data[:,1:].mean(axis=0,dtype=int))\n",
    "\n",
    "print('Минимум:')\n",
    "print(data[:,1:].min(axis=0))\n",
    "\n",
    "print('Максимум:')\n",
    "print(data[:,1:].max(axis=0))\n",
    "\n",
    "print('Медиана:')\n",
    "p=np.median(data[:,1:],axis=0)\n",
    "print(p)"
   ]
  },
  {
   "cell_type": "markdown",
   "metadata": {},
   "source": [
    "3. Ограничьте сверху значения продолжительности выполнения рецепта значением квантиля $q_{0.75}$. "
   ]
  },
  {
   "cell_type": "code",
   "execution_count": 114,
   "metadata": {},
   "outputs": [
    {
     "name": "stdout",
     "output_type": "stream",
     "text": [
      "65.0\n"
     ]
    }
   ],
   "source": [
    "#3\n",
    "q=np.quantile(data[:,1], q=0.75)\n",
    "data[:,1]=data[:,1].clip(max=q)\n",
    "print(q)"
   ]
  },
  {
   "cell_type": "markdown",
   "metadata": {},
   "source": [
    "4. Посчитайте, для скольких рецептов указана продолжительность, равная нулю. Замените для таких строк значение в данном столбце на 1."
   ]
  },
  {
   "cell_type": "code",
   "execution_count": 89,
   "metadata": {},
   "outputs": [
    {
     "name": "stdout",
     "output_type": "stream",
     "text": [
      "479\n"
     ]
    }
   ],
   "source": [
    "#4\n",
    "a=data[:,1]\n",
    "print(np.sum(a==0))\n",
    "data[:,1]=np.where(data[:,1]==0,1,data[:,1])"
   ]
  },
  {
   "cell_type": "markdown",
   "metadata": {},
   "source": [
    "5. Посчитайте, сколько уникальных рецептов находится в датасете."
   ]
  },
  {
   "cell_type": "code",
   "execution_count": 90,
   "metadata": {},
   "outputs": [
    {
     "data": {
      "text/plain": [
       "100000"
      ]
     },
     "execution_count": 90,
     "metadata": {},
     "output_type": "execute_result"
    }
   ],
   "source": [
    "#5\n",
    "len(np.unique(data,axis=0))"
   ]
  },
  {
   "cell_type": "markdown",
   "metadata": {},
   "source": [
    "6. Сколько и каких различных значений кол-ва ингредиентов присутвует в рецептах из датасета?"
   ]
  },
  {
   "cell_type": "code",
   "execution_count": 91,
   "metadata": {},
   "outputs": [
    {
     "name": "stdout",
     "output_type": "stream",
     "text": [
      "[[    1    13]\n",
      " [    2   926]\n",
      " [    3  2895]\n",
      " [    4  5515]\n",
      " [    5  7913]\n",
      " [    6  9376]\n",
      " [    7 10628]\n",
      " [    8 10951]\n",
      " [    9 10585]\n",
      " [   10  9591]\n",
      " [   11  8297]\n",
      " [   12  6605]\n",
      " [   13  4997]\n",
      " [   14  3663]\n",
      " [   15  2595]\n",
      " [   16  1767]\n",
      " [   17  1246]\n",
      " [   18   790]\n",
      " [   19   573]\n",
      " [   20   376]\n",
      " [   21   217]\n",
      " [   22   161]\n",
      " [   23   105]\n",
      " [   24    69]\n",
      " [   25    50]\n",
      " [   26    28]\n",
      " [   27    16]\n",
      " [   28    16]\n",
      " [   29    12]\n",
      " [   30    12]\n",
      " [   31     3]\n",
      " [   32     1]\n",
      " [   33     2]\n",
      " [   34     1]\n",
      " [   35     3]\n",
      " [   37     1]\n",
      " [   39     1]]\n"
     ]
    }
   ],
   "source": [
    "#6\n",
    "b=data[:,2]\n",
    "unique, counts = np.unique(b, return_counts=True)\n",
    "result = np.column_stack((unique, counts)) \n",
    "print (result)"
   ]
  },
  {
   "cell_type": "markdown",
   "metadata": {},
   "source": [
    "7. Создайте версию массива, содержащую информацию только о рецептах, состоящих не более чем из 5 ингредиентов."
   ]
  },
  {
   "cell_type": "code",
   "execution_count": 92,
   "metadata": {},
   "outputs": [
    {
     "name": "stdout",
     "output_type": "stream",
     "text": [
      "[[446597     15      5]\n",
      " [204134      5      3]\n",
      " [ 25623      6      4]\n",
      " ...\n",
      " [ 52088     60      5]\n",
      " [128811     15      4]\n",
      " [370915      5      4]]\n"
     ]
    },
    {
     "data": {
      "text/plain": [
       "17262"
      ]
     },
     "execution_count": 92,
     "metadata": {},
     "output_type": "execute_result"
    }
   ],
   "source": [
    "#7\n",
    "b=data[:,2]\n",
    "data2=data[b<=5]\n",
    "print(data2)\n",
    "\n",
    "len(data2)"
   ]
  },
  {
   "cell_type": "markdown",
   "metadata": {},
   "source": [
    "8. Для каждого рецепта посчитайте, сколько в среднем ингредиентов приходится на одну минуту рецепта. Найдите максимальное значение этой величины для всего датасета"
   ]
  },
  {
   "cell_type": "code",
   "execution_count": 93,
   "metadata": {},
   "outputs": [
    {
     "name": "stdout",
     "output_type": "stream",
     "text": [
      "[0.26666667 0.28       0.6        ... 0.23076923 0.8        0.21538462]\n",
      "24.0\n"
     ]
    }
   ],
   "source": [
    "#8\n",
    "l=b/a\n",
    "print(l)\n",
    "print(l.max())"
   ]
  },
  {
   "cell_type": "markdown",
   "metadata": {},
   "source": [
    "9. Вычислите среднее количество ингредиентов для топ-100 рецептов с наибольшей продолжительностью"
   ]
  },
  {
   "cell_type": "code",
   "execution_count": 94,
   "metadata": {},
   "outputs": [
    {
     "name": "stdout",
     "output_type": "stream",
     "text": [
      "9.96\n"
     ]
    }
   ],
   "source": [
    "#9\n",
    "u=data[:,1].argsort()[-100:]\n",
    "print(data[u,2].mean())"
   ]
  },
  {
   "cell_type": "markdown",
   "metadata": {},
   "source": [
    "10. Выберите случайным образом и выведите информацию о 10 различных рецептах"
   ]
  },
  {
   "cell_type": "code",
   "execution_count": 95,
   "metadata": {},
   "outputs": [
    {
     "name": "stdout",
     "output_type": "stream",
     "text": [
      "[[202566      5      4]\n",
      " [266302     30     15]\n",
      " [181892     10      7]\n",
      " [ 22211     30      2]\n",
      " [209269     30      8]\n",
      " [201131     20      6]\n",
      " [143935     10     11]\n",
      " [ 29389     43     15]\n",
      " [195691     65      7]\n",
      " [303760     10      7]]\n"
     ]
    }
   ],
   "source": [
    "#10\n",
    "import random\n",
    "rng = np.random.default_rng()\n",
    "print(rng.choice(data, size=10, replace=True))"
   ]
  },
  {
   "cell_type": "markdown",
   "metadata": {},
   "source": [
    "11. Выведите процент рецептов, кол-во ингредиентов в которых меньше среднего."
   ]
  },
  {
   "cell_type": "code",
   "execution_count": 96,
   "metadata": {},
   "outputs": [
    {
     "name": "stdout",
     "output_type": "stream",
     "text": [
      "0.58802 %\n"
     ]
    }
   ],
   "source": [
    "#11\n",
    "a=data[:,2]\n",
    "n=data[:,2].mean(axis=0)\n",
    "k=data[a<n]\n",
    "c=len(k*100)/len(data)\n",
    "print(c, '%')"
   ]
  },
  {
   "cell_type": "markdown",
   "metadata": {},
   "source": [
    "12. Назовем \"простым\" такой рецепт, длительность выполнения которого не больше 20 минут и кол-во ингредиентов в котором не больше 5. Создайте версию датасета с дополнительным столбцом, значениями которого являются 1, если рецепт простой, и 0 в противном случае."
   ]
  },
  {
   "cell_type": "code",
   "execution_count": 104,
   "metadata": {},
   "outputs": [
    {
     "name": "stdout",
     "output_type": "stream",
     "text": [
      "[[127244     60     16      0]\n",
      " [ 23891     25      7      0]\n",
      " [ 94746     10      6      0]\n",
      " ...\n",
      " [498432     65     15      0]\n",
      " [370915      5      4      1]\n",
      " [ 81993     65     14      0]]\n"
     ]
    }
   ],
   "source": [
    "#12\n",
    "a=data[:,2]\n",
    "b=data[:,1]\n",
    "data4=(a<=5)&(b<=20)\n",
    "new=np.where(data4,1,0)\n",
    "new_data=np.insert(data,3,new,axis=1)\n",
    "print(new_data)"
   ]
  },
  {
   "cell_type": "markdown",
   "metadata": {},
   "source": [
    "13. Выведите процент \"простых\" рецептов в датасете"
   ]
  },
  {
   "cell_type": "code",
   "execution_count": 110,
   "metadata": {},
   "outputs": [
    {
     "name": "stdout",
     "output_type": "stream",
     "text": [
      "9.552 %\n"
     ]
    }
   ],
   "source": [
    "#13\n",
    "t=np.sum(new_data[:,3])\n",
    "y=len(data)\n",
    "j=(t*100)/y\n",
    "\n",
    "print(j,'%')"
   ]
  },
  {
   "cell_type": "markdown",
   "metadata": {},
   "source": [
    "14. Разделим рецепты на группы по следующему правилу. Назовем рецепты короткими, если их продолжительность составляет менее 10 минут; стандартными, если их продолжительность составляет более 10, но менее 20 минут; и длинными, если их продолжительность составляет не менее 20 минут. Создайте трехмерный массив, где нулевая ось отвечает за номер группы (короткий, стандартный или длинный рецепт), первая ось - за сам рецепт и вторая ось - за характеристики рецепта. Выберите максимальное количество рецептов из каждой группы таким образом, чтобы было возможно сформировать трехмерный массив. Выведите форму полученного массива."
   ]
  },
  {
   "cell_type": "code",
   "execution_count": 116,
   "metadata": {},
   "outputs": [
    {
     "name": "stdout",
     "output_type": "stream",
     "text": [
      "(3, 7588, 3)\n"
     ]
    }
   ],
   "source": [
    "#14\n",
    "kor=data[:,1]<10\n",
    "stand=(data[:,1]>=10)&(data[:,1]<20)\n",
    "dlin=data[:,1]>=20\n",
    "nomer_gruppy=min(len(data[kor]),len(data[stand]),len(data[dlin]))\n",
    "data3d=np.array(((data[kor])[:nomer_gruppy],(data[stand])[:nomer_gruppy],(data[dlin])[:nomer_gruppy]))\n",
    "print(data3d.shape)"
   ]
  }
 ],
 "metadata": {
  "kernelspec": {
   "display_name": "Python 3 (ipykernel)",
   "language": "python",
   "name": "python3"
  },
  "language_info": {
   "codemirror_mode": {
    "name": "ipython",
    "version": 3
   },
   "file_extension": ".py",
   "mimetype": "text/x-python",
   "name": "python",
   "nbconvert_exporter": "python",
   "pygments_lexer": "ipython3",
   "version": "3.9.13"
  }
 },
 "nbformat": 4,
 "nbformat_minor": 4
}
